{
 "cells": [
  {
   "cell_type": "markdown",
   "id": "481d2514",
   "metadata": {},
   "source": [
    "#### Hint on mean-centering and standardizing multiple columns using stack-transform-unstack"
   ]
  },
  {
   "cell_type": "code",
   "execution_count": 1,
   "id": "ab94f2ea",
   "metadata": {},
   "outputs": [],
   "source": [
    "import pandas as pd\n",
    "from dfply import *"
   ]
  },
  {
   "cell_type": "code",
   "execution_count": 2,
   "id": "6c18ed19",
   "metadata": {},
   "outputs": [
    {
     "data": {
      "text/html": [
       "<div>\n",
       "<style scoped>\n",
       "    .dataframe tbody tr th:only-of-type {\n",
       "        vertical-align: middle;\n",
       "    }\n",
       "\n",
       "    .dataframe tbody tr th {\n",
       "        vertical-align: top;\n",
       "    }\n",
       "\n",
       "    .dataframe thead th {\n",
       "        text-align: right;\n",
       "    }\n",
       "</style>\n",
       "<table border=\"1\" class=\"dataframe\">\n",
       "  <thead>\n",
       "    <tr style=\"text-align: right;\">\n",
       "      <th></th>\n",
       "      <th>A</th>\n",
       "      <th>B</th>\n",
       "      <th>C</th>\n",
       "    </tr>\n",
       "  </thead>\n",
       "  <tbody>\n",
       "    <tr>\n",
       "      <th>0</th>\n",
       "      <td>1</td>\n",
       "      <td>5</td>\n",
       "      <td>8</td>\n",
       "    </tr>\n",
       "    <tr>\n",
       "      <th>1</th>\n",
       "      <td>2</td>\n",
       "      <td>6</td>\n",
       "      <td>11</td>\n",
       "    </tr>\n",
       "    <tr>\n",
       "      <th>2</th>\n",
       "      <td>3</td>\n",
       "      <td>7</td>\n",
       "      <td>14</td>\n",
       "    </tr>\n",
       "  </tbody>\n",
       "</table>\n",
       "</div>"
      ],
      "text/plain": [
       "   A  B   C\n",
       "0  1  5   8\n",
       "1  2  6  11\n",
       "2  3  7  14"
      ]
     },
     "execution_count": 2,
     "metadata": {},
     "output_type": "execute_result"
    }
   ],
   "source": [
    "df = pd.DataFrame({'A': [1, 2, 3],\n",
    "                   'B': [5,6,7],\n",
    "                   'C': [8, 11, 14]\n",
    "                  })\n",
    "df"
   ]
  },
  {
   "cell_type": "code",
   "execution_count": 3,
   "id": "72ae7092",
   "metadata": {},
   "outputs": [
    {
     "ename": "AttributeError",
     "evalue": "'Series' object has no attribute '__rshift__'",
     "output_type": "error",
     "traceback": [
      "\u001b[0;31m---------------------------------------------------------------------------\u001b[0m",
      "\u001b[0;31mAttributeError\u001b[0m                            Traceback (most recent call last)",
      "\u001b[1;32m/home/wil/act4_1_cleaning_up_walmart_data/hint_on_center_and_standardize_after_stacking.ipynb Cell 4\u001b[0m in \u001b[0;36m<cell line: 4>\u001b[0;34m()\u001b[0m\n\u001b[1;32m      <a href='vscode-notebook-cell://wsl%2Bubuntu-20.04/home/wil/act4_1_cleaning_up_walmart_data/hint_on_center_and_standardize_after_stacking.ipynb#W3sdnNjb2RlLXJlbW90ZQ%3D%3D?line=0'>1</a>\u001b[0m \u001b[39mfrom\u001b[39;00m \u001b[39mmore_dfply\u001b[39;00m \u001b[39mimport\u001b[39;00m ifelse, case_when\n\u001b[1;32m      <a href='vscode-notebook-cell://wsl%2Bubuntu-20.04/home/wil/act4_1_cleaning_up_walmart_data/hint_on_center_and_standardize_after_stacking.ipynb#W3sdnNjb2RlLXJlbW90ZQ%3D%3D?line=1'>2</a>\u001b[0m \u001b[39mfrom\u001b[39;00m \u001b[39mmath\u001b[39;00m \u001b[39mimport\u001b[39;00m sqrt\n\u001b[0;32m----> <a href='vscode-notebook-cell://wsl%2Bubuntu-20.04/home/wil/act4_1_cleaning_up_walmart_data/hint_on_center_and_standardize_after_stacking.ipynb#W3sdnNjb2RlLXJlbW90ZQ%3D%3D?line=3'>4</a>\u001b[0m (df\n\u001b[1;32m      <a href='vscode-notebook-cell://wsl%2Bubuntu-20.04/home/wil/act4_1_cleaning_up_walmart_data/hint_on_center_and_standardize_after_stacking.ipynb#W3sdnNjb2RlLXJlbW90ZQ%3D%3D?line=4'>5</a>\u001b[0m  \u001b[39m>>\u001b[39;49m gather(\u001b[39m\"\u001b[39;49m\u001b[39mgroup\u001b[39;49m\u001b[39m\"\u001b[39;49m, \u001b[39m\"\u001b[39;49m\u001b[39mvalue\u001b[39;49m\u001b[39m\"\u001b[39;49m, columns_from(X\u001b[39m.\u001b[39;49mA))\n\u001b[1;32m      <a href='vscode-notebook-cell://wsl%2Bubuntu-20.04/home/wil/act4_1_cleaning_up_walmart_data/hint_on_center_and_standardize_after_stacking.ipynb#W3sdnNjb2RlLXJlbW90ZQ%3D%3D?line=5'>6</a>\u001b[0m  \u001b[39m>>\u001b[39;49mmutate(value \u001b[39m=\u001b[39;49m ifelse(X\u001b[39m.\u001b[39;49mvalue \u001b[39m!=\u001b[39;49m \u001b[39m'\u001b[39;49m\u001b[39mC\u001b[39;49m\u001b[39m'\u001b[39;49m,\n\u001b[1;32m      <a href='vscode-notebook-cell://wsl%2Bubuntu-20.04/home/wil/act4_1_cleaning_up_walmart_data/hint_on_center_and_standardize_after_stacking.ipynb#W3sdnNjb2RlLXJlbW90ZQ%3D%3D?line=6'>7</a>\u001b[0m                                     X\u001b[39m.\u001b[39;49mvalue\u001b[39m.\u001b[39;49mapply(sqrt),\n\u001b[1;32m      <a href='vscode-notebook-cell://wsl%2Bubuntu-20.04/home/wil/act4_1_cleaning_up_walmart_data/hint_on_center_and_standardize_after_stacking.ipynb#W3sdnNjb2RlLXJlbW90ZQ%3D%3D?line=7'>8</a>\u001b[0m                                     (\u001b[39mTrue\u001b[39;49;00m,\n\u001b[1;32m      <a href='vscode-notebook-cell://wsl%2Bubuntu-20.04/home/wil/act4_1_cleaning_up_walmart_data/hint_on_center_and_standardize_after_stacking.ipynb#W3sdnNjb2RlLXJlbW90ZQ%3D%3D?line=8'>9</a>\u001b[0m                                     X\u001b[39m.\u001b[39;49mvalue))   \n\u001b[1;32m     <a href='vscode-notebook-cell://wsl%2Bubuntu-20.04/home/wil/act4_1_cleaning_up_walmart_data/hint_on_center_and_standardize_after_stacking.ipynb#W3sdnNjb2RlLXJlbW90ZQ%3D%3D?line=9'>10</a>\u001b[0m                                     \n\u001b[1;32m     <a href='vscode-notebook-cell://wsl%2Bubuntu-20.04/home/wil/act4_1_cleaning_up_walmart_data/hint_on_center_and_standardize_after_stacking.ipynb#W3sdnNjb2RlLXJlbW90ZQ%3D%3D?line=10'>11</a>\u001b[0m  \u001b[39m>>\u001b[39;49m group_by(X\u001b[39m.\u001b[39;49mgroup)\n\u001b[1;32m     <a href='vscode-notebook-cell://wsl%2Bubuntu-20.04/home/wil/act4_1_cleaning_up_walmart_data/hint_on_center_and_standardize_after_stacking.ipynb#W3sdnNjb2RlLXJlbW90ZQ%3D%3D?line=11'>12</a>\u001b[0m  \u001b[39m>>\u001b[39;49m mutate(centered \u001b[39m=\u001b[39;49m X\u001b[39m.\u001b[39;49mvalue \u001b[39m-\u001b[39;49m X\u001b[39m.\u001b[39;49mvalue\u001b[39m.\u001b[39;49mmean(),\n\u001b[1;32m     <a href='vscode-notebook-cell://wsl%2Bubuntu-20.04/home/wil/act4_1_cleaning_up_walmart_data/hint_on_center_and_standardize_after_stacking.ipynb#W3sdnNjb2RlLXJlbW90ZQ%3D%3D?line=12'>13</a>\u001b[0m            z_score \u001b[39m=\u001b[39;49m (X\u001b[39m.\u001b[39;49mvalue \u001b[39m-\u001b[39;49m X\u001b[39m.\u001b[39;49mvalue\u001b[39m.\u001b[39;49mmean())\u001b[39m/\u001b[39;49mX\u001b[39m.\u001b[39;49mvalue\u001b[39m.\u001b[39;49mstd())\n\u001b[1;32m     <a href='vscode-notebook-cell://wsl%2Bubuntu-20.04/home/wil/act4_1_cleaning_up_walmart_data/hint_on_center_and_standardize_after_stacking.ipynb#W3sdnNjb2RlLXJlbW90ZQ%3D%3D?line=13'>14</a>\u001b[0m     )\n\u001b[1;32m     <a href='vscode-notebook-cell://wsl%2Bubuntu-20.04/home/wil/act4_1_cleaning_up_walmart_data/hint_on_center_and_standardize_after_stacking.ipynb#W3sdnNjb2RlLXJlbW90ZQ%3D%3D?line=14'>15</a>\u001b[0m )\n",
      "File \u001b[0;32m~/.pyenv/versions/anaconda3-2022.05/lib/python3.9/site-packages/dfply/base.py:142\u001b[0m, in \u001b[0;36mpipe.__rrshift__\u001b[0;34m(self, other)\u001b[0m\n\u001b[1;32m    139\u001b[0m     warnings\u001b[39m.\u001b[39msimplefilter(\u001b[39m\"\u001b[39m\u001b[39mignore\u001b[39m\u001b[39m\"\u001b[39m)\n\u001b[1;32m    140\u001b[0m     other_copy\u001b[39m.\u001b[39m_grouped_by \u001b[39m=\u001b[39m \u001b[39mgetattr\u001b[39m(other, \u001b[39m'\u001b[39m\u001b[39m_grouped_by\u001b[39m\u001b[39m'\u001b[39m, \u001b[39mNone\u001b[39;00m)\n\u001b[0;32m--> 142\u001b[0m result \u001b[39m=\u001b[39m \u001b[39mself\u001b[39;49m\u001b[39m.\u001b[39;49mfunction(other_copy)\n\u001b[1;32m    144\u001b[0m \u001b[39mfor\u001b[39;00m p \u001b[39min\u001b[39;00m \u001b[39mself\u001b[39m\u001b[39m.\u001b[39mchained_pipes:\n\u001b[1;32m    145\u001b[0m     result \u001b[39m=\u001b[39m p\u001b[39m.\u001b[39m\u001b[39m__rrshift__\u001b[39m(result)\n",
      "File \u001b[0;32m~/.pyenv/versions/anaconda3-2022.05/lib/python3.9/site-packages/dfply/base.py:149\u001b[0m, in \u001b[0;36mpipe.__call__.<locals>.<lambda>\u001b[0;34m(x)\u001b[0m\n\u001b[1;32m    148\u001b[0m \u001b[39mdef\u001b[39;00m \u001b[39m__call__\u001b[39m(\u001b[39mself\u001b[39m, \u001b[39m*\u001b[39margs, \u001b[39m*\u001b[39m\u001b[39m*\u001b[39mkwargs):\n\u001b[0;32m--> 149\u001b[0m     \u001b[39mreturn\u001b[39;00m pipe(\u001b[39mlambda\u001b[39;00m x: \u001b[39mself\u001b[39;49m\u001b[39m.\u001b[39;49mfunction(x, \u001b[39m*\u001b[39;49margs, \u001b[39m*\u001b[39;49m\u001b[39m*\u001b[39;49mkwargs))\n",
      "File \u001b[0;32m~/.pyenv/versions/anaconda3-2022.05/lib/python3.9/site-packages/dfply/base.py:329\u001b[0m, in \u001b[0;36mgroup_delegation.__call__\u001b[0;34m(self, *args, **kwargs)\u001b[0m\n\u001b[1;32m    327\u001b[0m grouped_by \u001b[39m=\u001b[39m \u001b[39mgetattr\u001b[39m(args[\u001b[39m0\u001b[39m], \u001b[39m'\u001b[39m\u001b[39m_grouped_by\u001b[39m\u001b[39m'\u001b[39m, \u001b[39mNone\u001b[39;00m)\n\u001b[1;32m    328\u001b[0m \u001b[39mif\u001b[39;00m (grouped_by \u001b[39mis\u001b[39;00m \u001b[39mNone\u001b[39;00m) \u001b[39mor\u001b[39;00m \u001b[39mnot\u001b[39;00m \u001b[39mall\u001b[39m([g \u001b[39min\u001b[39;00m args[\u001b[39m0\u001b[39m]\u001b[39m.\u001b[39mcolumns \u001b[39mfor\u001b[39;00m g \u001b[39min\u001b[39;00m grouped_by]):\n\u001b[0;32m--> 329\u001b[0m     \u001b[39mreturn\u001b[39;00m \u001b[39mself\u001b[39;49m\u001b[39m.\u001b[39;49mfunction(\u001b[39m*\u001b[39;49margs, \u001b[39m*\u001b[39;49m\u001b[39m*\u001b[39;49mkwargs)\n\u001b[1;32m    330\u001b[0m \u001b[39melse\u001b[39;00m:\n\u001b[1;32m    331\u001b[0m     applied \u001b[39m=\u001b[39m \u001b[39mself\u001b[39m\u001b[39m.\u001b[39m_apply(args[\u001b[39m0\u001b[39m], \u001b[39m*\u001b[39margs[\u001b[39m1\u001b[39m:], \u001b[39m*\u001b[39m\u001b[39m*\u001b[39mkwargs)\n",
      "File \u001b[0;32m~/.pyenv/versions/anaconda3-2022.05/lib/python3.9/site-packages/dfply/base.py:280\u001b[0m, in \u001b[0;36mIntentionEvaluator.__call__\u001b[0;34m(self, *args, **kwargs)\u001b[0m\n\u001b[1;32m    277\u001b[0m df \u001b[39m=\u001b[39m args[\u001b[39m0\u001b[39m]\n\u001b[1;32m    279\u001b[0m args \u001b[39m=\u001b[39m \u001b[39mself\u001b[39m\u001b[39m.\u001b[39m_recursive_arg_eval(df, args[\u001b[39m1\u001b[39m:])\n\u001b[0;32m--> 280\u001b[0m kwargs \u001b[39m=\u001b[39m \u001b[39mself\u001b[39;49m\u001b[39m.\u001b[39;49m_recursive_kwarg_eval(df, kwargs)\n\u001b[1;32m    282\u001b[0m \u001b[39mreturn\u001b[39;00m \u001b[39mself\u001b[39m\u001b[39m.\u001b[39mfunction(df, \u001b[39m*\u001b[39margs, \u001b[39m*\u001b[39m\u001b[39m*\u001b[39mkwargs)\n",
      "File \u001b[0;32m~/.pyenv/versions/anaconda3-2022.05/lib/python3.9/site-packages/dfply/base.py:254\u001b[0m, in \u001b[0;36mIntentionEvaluator._recursive_kwarg_eval\u001b[0;34m(self, df, kwargs)\u001b[0m\n\u001b[1;32m    251\u001b[0m eval_as_label \u001b[39m=\u001b[39m \u001b[39mself\u001b[39m\u001b[39m.\u001b[39m_find_eval_kwargs(\u001b[39mself\u001b[39m\u001b[39m.\u001b[39meval_as_label, kwargs)\n\u001b[1;32m    252\u001b[0m eval_as_selector \u001b[39m=\u001b[39m \u001b[39mself\u001b[39m\u001b[39m.\u001b[39m_find_eval_kwargs(\u001b[39mself\u001b[39m\u001b[39m.\u001b[39meval_as_selector, kwargs)\n\u001b[0;32m--> 254\u001b[0m \u001b[39mreturn\u001b[39;00m {\n\u001b[1;32m    255\u001b[0m     k: (\u001b[39mself\u001b[39m\u001b[39m.\u001b[39m_symbolic_to_label(df, v) \u001b[39mif\u001b[39;00m k \u001b[39min\u001b[39;00m eval_as_label\n\u001b[1;32m    256\u001b[0m         \u001b[39melse\u001b[39;00m \u001b[39mself\u001b[39m\u001b[39m.\u001b[39m_symbolic_to_selector(df, v) \u001b[39mif\u001b[39;00m k \u001b[39min\u001b[39;00m eval_as_selector\n\u001b[1;32m    257\u001b[0m     \u001b[39melse\u001b[39;00m \u001b[39mself\u001b[39m\u001b[39m.\u001b[39m_symbolic_eval(df, v) \u001b[39mif\u001b[39;00m k \u001b[39min\u001b[39;00m eval_symbols\n\u001b[1;32m    258\u001b[0m     \u001b[39melse\u001b[39;00m v)\n\u001b[1;32m    259\u001b[0m     \u001b[39mfor\u001b[39;00m k, v \u001b[39min\u001b[39;00m kwargs\u001b[39m.\u001b[39mitems()\n\u001b[1;32m    260\u001b[0m }\n",
      "File \u001b[0;32m~/.pyenv/versions/anaconda3-2022.05/lib/python3.9/site-packages/dfply/base.py:257\u001b[0m, in \u001b[0;36m<dictcomp>\u001b[0;34m(.0)\u001b[0m\n\u001b[1;32m    251\u001b[0m eval_as_label \u001b[39m=\u001b[39m \u001b[39mself\u001b[39m\u001b[39m.\u001b[39m_find_eval_kwargs(\u001b[39mself\u001b[39m\u001b[39m.\u001b[39meval_as_label, kwargs)\n\u001b[1;32m    252\u001b[0m eval_as_selector \u001b[39m=\u001b[39m \u001b[39mself\u001b[39m\u001b[39m.\u001b[39m_find_eval_kwargs(\u001b[39mself\u001b[39m\u001b[39m.\u001b[39meval_as_selector, kwargs)\n\u001b[1;32m    254\u001b[0m \u001b[39mreturn\u001b[39;00m {\n\u001b[1;32m    255\u001b[0m     k: (\u001b[39mself\u001b[39m\u001b[39m.\u001b[39m_symbolic_to_label(df, v) \u001b[39mif\u001b[39;00m k \u001b[39min\u001b[39;00m eval_as_label\n\u001b[1;32m    256\u001b[0m         \u001b[39melse\u001b[39;00m \u001b[39mself\u001b[39m\u001b[39m.\u001b[39m_symbolic_to_selector(df, v) \u001b[39mif\u001b[39;00m k \u001b[39min\u001b[39;00m eval_as_selector\n\u001b[0;32m--> 257\u001b[0m     \u001b[39melse\u001b[39;00m \u001b[39mself\u001b[39;49m\u001b[39m.\u001b[39;49m_symbolic_eval(df, v) \u001b[39mif\u001b[39;00m k \u001b[39min\u001b[39;00m eval_symbols\n\u001b[1;32m    258\u001b[0m     \u001b[39melse\u001b[39;00m v)\n\u001b[1;32m    259\u001b[0m     \u001b[39mfor\u001b[39;00m k, v \u001b[39min\u001b[39;00m kwargs\u001b[39m.\u001b[39mitems()\n\u001b[1;32m    260\u001b[0m }\n",
      "File \u001b[0;32m~/.pyenv/versions/anaconda3-2022.05/lib/python3.9/site-packages/dfply/base.py:228\u001b[0m, in \u001b[0;36mIntentionEvaluator._symbolic_eval\u001b[0;34m(self, df, arg)\u001b[0m\n\u001b[1;32m    227\u001b[0m \u001b[39mdef\u001b[39;00m \u001b[39m_symbolic_eval\u001b[39m(\u001b[39mself\u001b[39m, df, arg):\n\u001b[0;32m--> 228\u001b[0m     \u001b[39mreturn\u001b[39;00m \u001b[39mself\u001b[39;49m\u001b[39m.\u001b[39;49m_evaluator_loop(df, arg, \u001b[39mself\u001b[39;49m\u001b[39m.\u001b[39;49m_evaluate)\n",
      "File \u001b[0;32m~/.pyenv/versions/anaconda3-2022.05/lib/python3.9/site-packages/dfply/base.py:225\u001b[0m, in \u001b[0;36mIntentionEvaluator._evaluator_loop\u001b[0;34m(self, df, arg, eval_func)\u001b[0m\n\u001b[1;32m    223\u001b[0m     \u001b[39mreturn\u001b[39;00m [\u001b[39mself\u001b[39m\u001b[39m.\u001b[39m_evaluator_loop(df, a_, eval_func) \u001b[39mfor\u001b[39;00m a_ \u001b[39min\u001b[39;00m arg]\n\u001b[1;32m    224\u001b[0m \u001b[39melse\u001b[39;00m:\n\u001b[0;32m--> 225\u001b[0m     \u001b[39mreturn\u001b[39;00m eval_func(df, arg)\n",
      "File \u001b[0;32m~/.pyenv/versions/anaconda3-2022.05/lib/python3.9/site-packages/dfply/base.py:175\u001b[0m, in \u001b[0;36mIntentionEvaluator._evaluate\u001b[0;34m(self, df, arg)\u001b[0m\n\u001b[1;32m    173\u001b[0m \u001b[39mif\u001b[39;00m \u001b[39misinstance\u001b[39m(arg, Intention):\n\u001b[1;32m    174\u001b[0m     negate \u001b[39m=\u001b[39m arg\u001b[39m.\u001b[39minverted\n\u001b[0;32m--> 175\u001b[0m     arg \u001b[39m=\u001b[39m arg\u001b[39m.\u001b[39;49mevaluate(df)\n\u001b[1;32m    176\u001b[0m     \u001b[39mif\u001b[39;00m negate:\n\u001b[1;32m    177\u001b[0m         arg \u001b[39m=\u001b[39m \u001b[39m~\u001b[39marg\n",
      "File \u001b[0;32m~/.pyenv/versions/anaconda3-2022.05/lib/python3.9/site-packages/dfply/base.py:71\u001b[0m, in \u001b[0;36mIntention.evaluate\u001b[0;34m(self, context)\u001b[0m\n\u001b[1;32m     70\u001b[0m \u001b[39mdef\u001b[39;00m \u001b[39mevaluate\u001b[39m(\u001b[39mself\u001b[39m, context):\n\u001b[0;32m---> 71\u001b[0m     \u001b[39mreturn\u001b[39;00m \u001b[39mself\u001b[39;49m\u001b[39m.\u001b[39;49mfunction(context)\n",
      "File \u001b[0;32m~/.pyenv/versions/anaconda3-2022.05/lib/python3.9/site-packages/dfply/base.py:107\u001b[0m, in \u001b[0;36m_set_magic_method.<locals>.magic_method.<locals>.<lambda>\u001b[0;34m(x)\u001b[0m\n\u001b[1;32m    106\u001b[0m \u001b[39mdef\u001b[39;00m \u001b[39mmagic_method\u001b[39m(\u001b[39mself\u001b[39m, \u001b[39m*\u001b[39margs, \u001b[39m*\u001b[39m\u001b[39m*\u001b[39mkwargs):\n\u001b[0;32m--> 107\u001b[0m     \u001b[39mreturn\u001b[39;00m Intention(\u001b[39mlambda\u001b[39;00m x: \u001b[39mgetattr\u001b[39m(\u001b[39mself\u001b[39;49m\u001b[39m.\u001b[39;49mfunction(x), name)(\u001b[39m*\u001b[39m_context_args(args)(x),\n\u001b[1;32m    108\u001b[0m                                                                \u001b[39m*\u001b[39m\u001b[39m*\u001b[39m_context_kwargs(kwargs)(x)),\n\u001b[1;32m    109\u001b[0m                      invert\u001b[39m=\u001b[39m\u001b[39mself\u001b[39m\u001b[39m.\u001b[39minverted)\n",
      "File \u001b[0;32m~/.pyenv/versions/anaconda3-2022.05/lib/python3.9/site-packages/dfply/base.py:107\u001b[0m, in \u001b[0;36m_set_magic_method.<locals>.magic_method.<locals>.<lambda>\u001b[0;34m(x)\u001b[0m\n\u001b[1;32m    106\u001b[0m \u001b[39mdef\u001b[39;00m \u001b[39mmagic_method\u001b[39m(\u001b[39mself\u001b[39m, \u001b[39m*\u001b[39margs, \u001b[39m*\u001b[39m\u001b[39m*\u001b[39mkwargs):\n\u001b[0;32m--> 107\u001b[0m     \u001b[39mreturn\u001b[39;00m Intention(\u001b[39mlambda\u001b[39;00m x: \u001b[39mgetattr\u001b[39;49m(\u001b[39mself\u001b[39;49m\u001b[39m.\u001b[39;49mfunction(x), name)(\u001b[39m*\u001b[39m_context_args(args)(x),\n\u001b[1;32m    108\u001b[0m                                                                \u001b[39m*\u001b[39m\u001b[39m*\u001b[39m_context_kwargs(kwargs)(x)),\n\u001b[1;32m    109\u001b[0m                      invert\u001b[39m=\u001b[39m\u001b[39mself\u001b[39m\u001b[39m.\u001b[39minverted)\n",
      "File \u001b[0;32m~/.pyenv/versions/anaconda3-2022.05/lib/python3.9/site-packages/pandas/core/generic.py:5575\u001b[0m, in \u001b[0;36mNDFrame.__getattr__\u001b[0;34m(self, name)\u001b[0m\n\u001b[1;32m   5568\u001b[0m \u001b[39mif\u001b[39;00m (\n\u001b[1;32m   5569\u001b[0m     name \u001b[39mnot\u001b[39;00m \u001b[39min\u001b[39;00m \u001b[39mself\u001b[39m\u001b[39m.\u001b[39m_internal_names_set\n\u001b[1;32m   5570\u001b[0m     \u001b[39mand\u001b[39;00m name \u001b[39mnot\u001b[39;00m \u001b[39min\u001b[39;00m \u001b[39mself\u001b[39m\u001b[39m.\u001b[39m_metadata\n\u001b[1;32m   5571\u001b[0m     \u001b[39mand\u001b[39;00m name \u001b[39mnot\u001b[39;00m \u001b[39min\u001b[39;00m \u001b[39mself\u001b[39m\u001b[39m.\u001b[39m_accessors\n\u001b[1;32m   5572\u001b[0m     \u001b[39mand\u001b[39;00m \u001b[39mself\u001b[39m\u001b[39m.\u001b[39m_info_axis\u001b[39m.\u001b[39m_can_hold_identifiers_and_holds_name(name)\n\u001b[1;32m   5573\u001b[0m ):\n\u001b[1;32m   5574\u001b[0m     \u001b[39mreturn\u001b[39;00m \u001b[39mself\u001b[39m[name]\n\u001b[0;32m-> 5575\u001b[0m \u001b[39mreturn\u001b[39;00m \u001b[39mobject\u001b[39;49m\u001b[39m.\u001b[39;49m\u001b[39m__getattribute__\u001b[39;49m(\u001b[39mself\u001b[39;49m, name)\n",
      "\u001b[0;31mAttributeError\u001b[0m: 'Series' object has no attribute '__rshift__'"
     ]
    }
   ],
   "source": [
    "from more_dfply import ifelse, case_when\n",
    "from math import sqrt\n",
    "\n",
    "(df\n",
    " >> gather(\"group\", \"value\", columns_from(X.A))\n",
    " >>mutate(value = ifelse(X.value != 'C',\n",
    "                                    X.value.apply(sqrt),\n",
    "                                    (True,\n",
    "                                    X.value))   \n",
    "                                    \n",
    " >> group_by(X.group)\n",
    " >> mutate(centered = X.value - X.value.mean(),\n",
    "           z_score = (X.value - X.value.mean())/X.value.std())\n",
    "    )\n",
    ")    "
   ]
  },
  {
   "cell_type": "code",
   "execution_count": null,
   "id": "5c4b0dae",
   "metadata": {},
   "outputs": [],
   "source": []
  }
 ],
 "metadata": {
  "kernelspec": {
   "display_name": "Python 3.9.12 ('shims': virtualenv)",
   "language": "python",
   "name": "python3"
  },
  "language_info": {
   "codemirror_mode": {
    "name": "ipython",
    "version": 3
   },
   "file_extension": ".py",
   "mimetype": "text/x-python",
   "name": "python",
   "nbconvert_exporter": "python",
   "pygments_lexer": "ipython3",
   "version": "3.9.12"
  },
  "vscode": {
   "interpreter": {
    "hash": "d86930d30e2f92adfa8661856ef5cb60d546f1eb2b7e6b3f83dda3962e1fa245"
   }
  }
 },
 "nbformat": 4,
 "nbformat_minor": 5
}
